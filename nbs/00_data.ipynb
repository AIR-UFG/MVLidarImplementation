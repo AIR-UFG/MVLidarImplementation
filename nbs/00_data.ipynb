{
 "cells": [
  {
   "cell_type": "markdown",
   "metadata": {},
   "source": [
    "# Data from Semantic Kitti"
   ]
  },
  {
   "cell_type": "code",
   "execution_count": null,
   "metadata": {},
   "outputs": [],
   "source": [
    "#| default_exp data"
   ]
  },
  {
   "cell_type": "code",
   "execution_count": null,
   "metadata": {},
   "outputs": [],
   "source": [
    "#| export\n",
    "import torch, os\n",
    "import numpy as np\n",
    "from pathlib import Path\n",
    "from torch.utils.data import Dataset\n",
    "from PIL import Image"
   ]
  },
  {
   "cell_type": "code",
   "execution_count": null,
   "metadata": {},
   "outputs": [],
   "source": [
    "#| export\n",
    "class Dataset(Dataset):\n",
    "    def __init__(self, image_folder_path, mask_folder_path, transform=None):\n",
    "        self.image_folder_path = image_folder_path\n",
    "        self.mask_folder_path = mask_folder_path\n",
    "        self.transform = transform\n",
    "        self.image_filenames = os.listdir(image_folder_path)\n",
    "        self.mask_filenames = os.listdir(mask_folder_path)\n",
    "\n",
    "    def __len__(self):\n",
    "        return len(self.image_filenames)\n",
    "\n",
    "    def __getitem__(self, idx):\n",
    "        img_name = os.path.join(self.image_folder_path, self.image_filenames[idx])\n",
    "        mask_name = os.path.join(self.mask_folder_path, self.mask_filenames[idx])\n",
    "\n",
    "        image = Image.open(img_name)\n",
    "        mask = Image.open(mask_name)\n",
    "\n",
    "        if self.transform:\n",
    "            image = self.transform(image)\n",
    "            mask = self.transform(mask)\n",
    "\n",
    "        return image, mask"
   ]
  },
  {
   "cell_type": "code",
   "execution_count": null,
   "metadata": {},
   "outputs": [],
   "source": [
    "#| export\n",
    "def merge_images(origin_path, merged_path):\n",
    "    reflectance_path = origin_path/\"reflectance\"\n",
    "    depth_path = origin_path/\"depth\"\n",
    "    \n",
    "    reflectance_files = os.listdir(reflectance_path)\n",
    "    depth_files = os.listdir(depth_path)\n",
    "\n",
    "    for reflectance_frame in reflectance_files:\n",
    "        if reflectance_frame.endswith(\".png\"):\n",
    "\n",
    "            reflectance_frame_path = os.path.join(reflectance_path, reflectance_frame)\n",
    "            depth_frame_path = os.path.join(depth_path, reflectance_frame)\n",
    "\n",
    "\n",
    "            reflectance_image = Image.open(reflectance_frame_path)\n",
    "            depth_image = Image.open(depth_frame_path)\n",
    "\n",
    "\n",
    "            reflectance_array = np.array(reflectance_image)\n",
    "            depth_array = np.array(depth_image)\n",
    "\n",
    "            merged_image = np.dstack((reflectance_array, depth_array))\n",
    "\n",
    "\n",
    "            merged_image = Image.fromarray(merged_image)\n",
    "\n",
    "\n",
    "            output_path = os.path.join(merged_path, reflectance_frame)\n",
    "            merged_image.save(output_path)"
   ]
  },
  {
   "cell_type": "markdown",
   "metadata": {},
   "source": [
    "Remap the classes for the chosen ones\n",
    "\n",
    "0 - unknown/outlier: every other class\r\n",
    "\r\n",
    "1 - car: 1\r\n",
    "\r\n",
    "2 - truck: 4\r\n",
    "\r\n",
    "3 - person/pedestrians: 6\r\n",
    "\r\n",
    "4 - cyclist: 7, 2\r\n",
    "\r\n",
    "5 - road: 9,\r\n",
    "\r\n",
    "6 - sidewalk: 11"
   ]
  },
  {
   "cell_type": "code",
   "execution_count": null,
   "metadata": {},
   "outputs": [],
   "source": [
    "#| export\n",
    "def remap_segmentation_masks(origin_path, output_dir):\n",
    "    \n",
    "    input_dir = origin_path/\"segmentation_mask\"\n",
    "    \n",
    "    remapping_rules = {\n",
    "      1: 1,\n",
    "      4: 2,\n",
    "      6: 3,\n",
    "      7: 4,\n",
    "      2: 4,\n",
    "      9: 5,\n",
    "      11: 6\n",
    "    }\n",
    "    \n",
    "    for filename in os.listdir(input_dir):\n",
    "      if filename.endswith(\".png\"):\n",
    "          image_path = os.path.join(input_dir, filename)\n",
    "          img = Image.open(image_path)\n",
    "    \n",
    "          img_array = np.array(img)\n",
    "    \n",
    "          remapped_array = np.zeros_like(img_array)\n",
    "          for old_value, new_value in remapping_rules.items():\n",
    "              remapped_array[img_array == old_value] = new_value\n",
    "    \n",
    "          remapped_img = Image.fromarray(remapped_array)\n",
    "    \n",
    "          output_path = os.path.join(output_dir, filename)\n",
    "          remapped_img.save(output_path)"
   ]
  },
  {
   "cell_type": "code",
   "execution_count": null,
   "metadata": {},
   "outputs": [],
   "source": [
    "#| hide\n",
    "import nbdev; nbdev.nbdev_export()"
   ]
  }
 ],
 "metadata": {
  "kernelspec": {
   "display_name": "python3",
   "language": "python",
   "name": "python3"
  }
 },
 "nbformat": 4,
 "nbformat_minor": 4
}
